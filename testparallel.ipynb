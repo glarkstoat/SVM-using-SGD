{
 "cells": [
  {
   "cell_type": "code",
   "execution_count": 12,
   "metadata": {
    "collapsed": true,
    "pycharm": {
     "name": "#%%\n"
    }
   },
   "outputs": [],
   "source": [
    "## Dataset tiny\n",
    "import math\n",
    "\n",
    "import matplotlib.pyplot as plt\n",
    "from DataLoader import *\n",
    "from LinearSVM import LinearSVM\n",
    "from SGD import *\n",
    "\n",
    "dataloader = DataLoader()\n",
    "\n",
    "\n",
    "def test(thread_count, xtrain, ytrain, isTiny=True):\n",
    "    lr = 0.1\n",
    "    C = 0.001\n",
    "    svm = LinearSVM(learning_rate=lr, regularization=C, show_plot=isTiny, thread_count=thread_count,\n",
    "                    batch_size=xtrain.shape[0], epoch_count=1)\n",
    "    svm.fit(xtrain, ytrain)\n",
    "    print(f\"Accuracies: {svm.accuracies}\", sep='\\n')\n",
    "\n",
    "\n",
    "# Large\n",
    "xtrainlarge, xtestlarge, ytrainlarge, ytestlarge = dataloader.get_toydata_large()"
   ]
  },
  {
   "cell_type": "code",
   "execution_count": 13,
   "outputs": [
    {
     "name": "stdout",
     "output_type": "stream",
     "text": [
      "Finished in 0:00:01.202753\n",
      "Accuracies: [0.99997857]\n"
     ]
    }
   ],
   "source": [
    "test(1, xtrainlarge, ytrainlarge, isTiny=False)"
   ],
   "metadata": {
    "collapsed": false,
    "pycharm": {
     "name": "#%%\n"
    }
   }
  },
  {
   "cell_type": "code",
   "execution_count": 14,
   "outputs": [
    {
     "name": "stdout",
     "output_type": "stream",
     "text": [
      "Using parallel gradient descent\n",
      "Examples per thread: 70000\n",
      "Finished in 0:00:00.972378\n",
      "Accuracies: {0: [1.0], 1: [1.0]}\n"
     ]
    }
   ],
   "source": [
    "test(2, xtrainlarge, ytrainlarge, isTiny=False)"
   ],
   "metadata": {
    "collapsed": false,
    "pycharm": {
     "name": "#%%\n"
    }
   }
  },
  {
   "cell_type": "code",
   "execution_count": 15,
   "outputs": [
    {
     "name": "stdout",
     "output_type": "stream",
     "text": [
      "Using parallel gradient descent\n",
      "Examples per thread: 35000\n",
      "Finished in 0:00:01.218949\n",
      "Accuracies: {0: [1.0], 1: [1.0], 2: [1.0], 3: [1.0]}\n"
     ]
    }
   ],
   "source": [
    "test(4, xtrainlarge, ytrainlarge, isTiny=False)"
   ],
   "metadata": {
    "collapsed": false,
    "pycharm": {
     "name": "#%%\n"
    }
   }
  },
  {
   "cell_type": "code",
   "execution_count": 16,
   "outputs": [
    {
     "name": "stdout",
     "output_type": "stream",
     "text": [
      "Using parallel gradient descent\n",
      "Examples per thread: 17500\n",
      "Finished in 0:00:01.550418\n",
      "Accuracies: {0: [1.0], 1: [1.0], 2: [0.9999928571428571], 3: [1.0], 4: [1.0], 5: [1.0], 6: [1.0], 7: [1.0]}\n"
     ]
    }
   ],
   "source": [
    "test(8, xtrainlarge, ytrainlarge, isTiny=False)"
   ],
   "metadata": {
    "collapsed": false,
    "pycharm": {
     "name": "#%%\n"
    }
   }
  },
  {
   "cell_type": "code",
   "execution_count": 17,
   "outputs": [],
   "source": [
    "def test2(thread_count, xtrain, ytrain, isTiny=True):\n",
    "    lr = 0.1\n",
    "    C = 0.001\n",
    "    svm = LinearSVM(learning_rate=lr, regularization=C, show_plot=isTiny, thread_count=1,\n",
    "                    batch_size=math.floor(xtrain.shape[0] / thread_count), epoch_count=thread_count)\n",
    "    svm.fit(xtrain, ytrain)\n",
    "    print(f\"Accuracies (1-thread): {svm.accuracies}\", sep='\\n')\n",
    "\n",
    "    svm_parallel = LinearSVM(learning_rate=lr, regularization=C, show_plot=isTiny, thread_count=thread_count)\n",
    "    svm_parallel.fit(xtrain, ytrain)\n",
    "    print(f\"Accuracies ({thread_count}-thread): {svm_parallel.accuracies}\", sep='\\n')"
   ],
   "metadata": {
    "collapsed": false,
    "pycharm": {
     "name": "#%%\n"
    }
   }
  },
  {
   "cell_type": "code",
   "execution_count": 18,
   "outputs": [
    {
     "name": "stdout",
     "output_type": "stream",
     "text": [
      "Finished in 0:00:01.819376\n",
      "Accuracies (1-thread): [0.99997857]\n",
      "Using parallel gradient descent\n",
      "Examples per thread: 70000\n",
      "Finished in 0:00:00.967487\n",
      "Accuracies (2-thread): {0: [1.0], 1: [1.0]}\n"
     ]
    }
   ],
   "source": [
    "test2(2, xtrainlarge, ytrainlarge, isTiny=False)"
   ],
   "metadata": {
    "collapsed": false,
    "pycharm": {
     "name": "#%%\n"
    }
   }
  },
  {
   "cell_type": "code",
   "execution_count": 19,
   "outputs": [
    {
     "name": "stdout",
     "output_type": "stream",
     "text": [
      "Finished in 0:00:02.785563\n",
      "Accuracies (1-thread): [0.99998571]\n",
      "Using parallel gradient descent\n",
      "Examples per thread: 35000\n",
      "Finished in 0:00:01.192302\n",
      "Accuracies (4-thread): {0: [0.9999928571428571], 1: [1.0], 2: [1.0], 3: [1.0]}\n"
     ]
    }
   ],
   "source": [
    "test2(4, xtrainlarge, ytrainlarge, isTiny=False)"
   ],
   "metadata": {
    "collapsed": false,
    "pycharm": {
     "name": "#%%\n"
    }
   }
  },
  {
   "cell_type": "code",
   "execution_count": 20,
   "outputs": [
    {
     "name": "stdout",
     "output_type": "stream",
     "text": [
      "Finished in 0:00:04.840019\n",
      "Accuracies (1-thread): [0.99999286]\n",
      "Using parallel gradient descent\n",
      "Examples per thread: 17500\n",
      "Finished in 0:00:01.537392\n",
      "Accuracies (8-thread): {0: [1.0], 1: [0.9999928571428571], 2: [1.0], 3: [1.0], 4: [1.0], 5: [1.0], 6: [1.0], 7: [1.0]}\n"
     ]
    }
   ],
   "source": [
    "test2(8, xtrainlarge, ytrainlarge, isTiny=False)"
   ],
   "metadata": {
    "collapsed": false,
    "pycharm": {
     "name": "#%%\n"
    }
   }
  }
 ],
 "metadata": {
  "kernelspec": {
   "name": "python3",
   "language": "python",
   "display_name": "Python 3"
  },
  "language_info": {
   "codemirror_mode": {
    "name": "ipython",
    "version": 2
   },
   "file_extension": ".py",
   "mimetype": "text/x-python",
   "name": "python",
   "nbconvert_exporter": "python",
   "pygments_lexer": "ipython2",
   "version": "3.8.8"
  }
 },
 "nbformat": 4,
 "nbformat_minor": 0
}