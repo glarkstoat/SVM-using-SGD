{
 "cells": [
  {
   "cell_type": "code",
   "execution_count": 3,
   "metadata": {
    "collapsed": true
   },
   "outputs": [
    {
     "name": "stdout",
     "output_type": "stream",
     "text": [
      "Examples per thread: 35\n",
      "Thread 0 spawned\n",
      "Thread 1 spawned\n",
      "'dict' object has no attribute 'shape'\n",
      "'dict' object has no attribute 'shape'\n",
      "Thread 2 spawned\n",
      "Thread 3 spawned'dict' object has no attribute 'shape'\n",
      "\n",
      "'dict' object has no attribute 'shape'\n",
      "Finished in 0:00:00.001758\n"
     ]
    },
    {
     "data": {
      "text/plain": "<LinearSVMParallel.LinearSVMParallel at 0x7fc86ce36b80>"
     },
     "execution_count": 3,
     "metadata": {},
     "output_type": "execute_result"
    }
   ],
   "source": [
    "## Dataset tiny\n",
    "import matplotlib.pyplot as plt\n",
    "from DataLoader import *\n",
    "from LinearSVM import *\n",
    "from SGD import *\n",
    "from LinearSVMParallel import *\n",
    "dataloader = DataLoader()\n",
    "\n",
    "# Tiny\n",
    "xtrain, xtest, ytrain, ytest = dataloader.get_toydata_tiny()\n",
    "lr = 0.1\n",
    "C = 0.001\n",
    "svm = LinearSVMParallel(lr=lr, C=C, tqdm_toggle=True)\n",
    "svm.fit(xtrain, ytrain)"
   ]
  },
  {
   "cell_type": "code",
   "execution_count": 4,
   "outputs": [
    {
     "name": "stderr",
     "output_type": "stream",
     "text": [
      "/Users/ezorrio/PycharmProjects/svm_sgd/SVM-using-SGD/SGD.py:38: RuntimeWarning: overflow encountered in double_scalars\n",
      "  error += current_error ** 2\n",
      "/Users/ezorrio/PycharmProjects/svm_sgd/SVM-using-SGD/SGD.py:18: RuntimeWarning: overflow encountered in double_scalars\n",
      "  result += sum(self.weight[i + 1] * features[i] for i in range(len(features) - 1))\n",
      "/Users/ezorrio/PycharmProjects/svm_sgd/SVM-using-SGD/SGD.py:41: RuntimeWarning: invalid value encountered in multiply\n",
      "  self.weight[1:] -= self.learning_rate * current_error * itemx[0:]\n"
     ]
    },
    {
     "name": "stdout",
     "output_type": "stream",
     "text": [
      "Epoch: 0. Total error: nan\n",
      "Finished in 0:00:19.811245\n"
     ]
    }
   ],
   "source": [
    "SGD(0.05).train(xtrain, ytrain, len(xtrain) - 1, 1)"
   ],
   "metadata": {
    "collapsed": false,
    "pycharm": {
     "name": "#%%\n"
    }
   }
  },
  {
   "cell_type": "code",
   "execution_count": 5,
   "outputs": [
    {
     "name": "stdout",
     "output_type": "stream",
     "text": [
      "Examples per thread: 60000\n",
      "Thread 0 spawned\n",
      "Thread 0 finished\n",
      "Finished in 0:00:00.733673\n"
     ]
    }
   ],
   "source": [
    "ParallelSGD(0.05, 1, 0.5).train(xtrain, ytrain)"
   ],
   "metadata": {
    "collapsed": false,
    "pycharm": {
     "name": "#%%\n"
    }
   }
  },
  {
   "cell_type": "code",
   "execution_count": 6,
   "outputs": [
    {
     "name": "stdout",
     "output_type": "stream",
     "text": [
      "Examples per thread: 30000\n",
      "Thread 0 spawnedThread 1 spawned\n",
      "\n",
      "Thread 0 finished\n",
      "Thread 1 finished\n",
      "Finished in 0:00:01.546167\n"
     ]
    }
   ],
   "source": [
    "ParallelSGD(0.05, 2, 0.5).train(xtrain, ytrain)"
   ],
   "metadata": {
    "collapsed": false,
    "pycharm": {
     "name": "#%%\n"
    }
   }
  },
  {
   "cell_type": "code",
   "execution_count": 7,
   "outputs": [
    {
     "name": "stdout",
     "output_type": "stream",
     "text": [
      "Examples per thread: 15000\n",
      "Thread 0 spawned\n",
      "Thread 1 spawned\n",
      "Thread 2 spawnedThread 3 spawned\n",
      "\n",
      "Thread 2 finished\n",
      "Thread 3 finished\n",
      "Thread 1 finished\n",
      "Thread 0 finished\n",
      "Finished in 0:00:01.921395\n"
     ]
    }
   ],
   "source": [
    "ParallelSGD(0.05, 4, 0.5).train(xtrain, ytrain)"
   ],
   "metadata": {
    "collapsed": false,
    "pycharm": {
     "name": "#%%\n"
    }
   }
  },
  {
   "cell_type": "code",
   "execution_count": 8,
   "outputs": [
    {
     "name": "stdout",
     "output_type": "stream",
     "text": [
      "Examples per thread: 15000\n",
      "Thread 0 spawned\n",
      "Thread 1 spawnedThread 2 spawned\n",
      "\n",
      "Thread 3 spawned\n",
      "Thread 3 finished\n",
      "Thread 1 finished\n",
      "Thread 2 finished\n",
      "Thread 0 finished\n",
      "Finished in 0:00:01.924796\n"
     ]
    }
   ],
   "source": [
    "test = ParallelSGD(0.05, 4, 0.5)\n",
    "test.train(xtrain, ytrain)"
   ],
   "metadata": {
    "collapsed": false,
    "pycharm": {
     "name": "#%%\n"
    }
   }
  },
  {
   "cell_type": "code",
   "execution_count": 9,
   "outputs": [
    {
     "name": "stdout",
     "output_type": "stream",
     "text": [
      "Thread 0 spawned\n",
      "'NoneType' object is not subscriptable\n"
     ]
    }
   ],
   "source": [
    "ParallelSGD(0.05, 4, 0.5).train_threaded(0, xtrain, ytrain)"
   ],
   "metadata": {
    "collapsed": false,
    "pycharm": {
     "name": "#%%\n"
    }
   }
  },
  {
   "cell_type": "code",
   "execution_count": 4,
   "outputs": [
    {
     "name": "stdout",
     "output_type": "stream",
     "text": [
      "Examples per thread: 35\n",
      "Thread 0 spawned\n",
      "Thread 1 spawned\n",
      "'dict' object has no attribute 'shape'\n",
      "Thread 2 spawned'dict' object has no attribute 'shape'Thread 3 spawned\n",
      "\n",
      "\n",
      "'dict' object has no attribute 'shape'\n",
      "'dict' object has no attribute 'shape'\n",
      "Finished in 0:00:00.003501\n"
     ]
    },
    {
     "ename": "TypeError",
     "evalue": "cannot unpack non-iterable NoneType object",
     "output_type": "error",
     "traceback": [
      "\u001B[0;31m---------------------------------------------------------------------------\u001B[0m",
      "\u001B[0;31mTypeError\u001B[0m                                 Traceback (most recent call last)",
      "\u001B[0;32m<ipython-input-4-3f94eec30702>\u001B[0m in \u001B[0;36m<module>\u001B[0;34m\u001B[0m\n\u001B[1;32m      1\u001B[0m \u001B[0mlr\u001B[0m \u001B[0;34m=\u001B[0m \u001B[0;36m0.1\u001B[0m\u001B[0;34m;\u001B[0m \u001B[0mC\u001B[0m \u001B[0;34m=\u001B[0m \u001B[0;36m0.001\u001B[0m\u001B[0;34m;\u001B[0m \u001B[0mbatch_size\u001B[0m\u001B[0;34m=\u001B[0m\u001B[0;36m200\u001B[0m\u001B[0;34m\u001B[0m\u001B[0;34m\u001B[0m\u001B[0m\n\u001B[1;32m      2\u001B[0m \u001B[0msvm\u001B[0m \u001B[0;34m=\u001B[0m \u001B[0mLinearSVMParallel\u001B[0m\u001B[0;34m(\u001B[0m\u001B[0mlr\u001B[0m\u001B[0;34m=\u001B[0m\u001B[0mlr\u001B[0m\u001B[0;34m,\u001B[0m \u001B[0mC\u001B[0m\u001B[0;34m=\u001B[0m\u001B[0mC\u001B[0m\u001B[0;34m,\u001B[0m \u001B[0mtqdm_toggle\u001B[0m\u001B[0;34m=\u001B[0m\u001B[0;32mTrue\u001B[0m\u001B[0;34m)\u001B[0m\u001B[0;34m\u001B[0m\u001B[0;34m\u001B[0m\u001B[0m\n\u001B[0;32m----> 3\u001B[0;31m \u001B[0msvm\u001B[0m\u001B[0;34m.\u001B[0m\u001B[0mfit\u001B[0m\u001B[0;34m(\u001B[0m\u001B[0mxtrain\u001B[0m\u001B[0;34m,\u001B[0m \u001B[0mytrain\u001B[0m\u001B[0;34m)\u001B[0m\u001B[0;34m\u001B[0m\u001B[0;34m\u001B[0m\u001B[0m\n\u001B[0m",
      "\u001B[0;32m~/PycharmProjects/svm_sgd/SVM-using-SGD/LinearSVMParallel.py\u001B[0m in \u001B[0;36mfit\u001B[0;34m(self, xtrain, ytrain)\u001B[0m\n\u001B[1;32m     62\u001B[0m                                      \u001B[0mloss_function\u001B[0m\u001B[0;34m=\u001B[0m\u001B[0mLinearSVMParallel\u001B[0m\u001B[0;34m.\u001B[0m\u001B[0mhinge_loss\u001B[0m\u001B[0;34m,\u001B[0m\u001B[0;34m\u001B[0m\u001B[0;34m\u001B[0m\u001B[0m\n\u001B[1;32m     63\u001B[0m                                      accuracy_function=LinearSVMParallel.accuracy)\n\u001B[0;32m---> 64\u001B[0;31m         \u001B[0mself\u001B[0m\u001B[0;34m.\u001B[0m\u001B[0mlosses\u001B[0m\u001B[0;34m,\u001B[0m \u001B[0mself\u001B[0m\u001B[0;34m.\u001B[0m\u001B[0maccuracies\u001B[0m \u001B[0;34m=\u001B[0m \u001B[0mself\u001B[0m\u001B[0;34m.\u001B[0m\u001B[0moptimizer\u001B[0m\u001B[0;34m.\u001B[0m\u001B[0mtrain\u001B[0m\u001B[0;34m(\u001B[0m\u001B[0mxtrain\u001B[0m\u001B[0;34m,\u001B[0m \u001B[0mytrain\u001B[0m\u001B[0;34m)\u001B[0m\u001B[0;34m\u001B[0m\u001B[0;34m\u001B[0m\u001B[0m\n\u001B[0m\u001B[1;32m     65\u001B[0m \u001B[0;34m\u001B[0m\u001B[0m\n\u001B[1;32m     66\u001B[0m         \u001B[0;32mif\u001B[0m \u001B[0mself\u001B[0m\u001B[0;34m.\u001B[0m\u001B[0mshow_plot\u001B[0m\u001B[0;34m:\u001B[0m\u001B[0;34m\u001B[0m\u001B[0;34m\u001B[0m\u001B[0m\n",
      "\u001B[0;31mTypeError\u001B[0m: cannot unpack non-iterable NoneType object"
     ]
    }
   ],
   "source": [],
   "metadata": {
    "collapsed": false,
    "pycharm": {
     "name": "#%%\n"
    }
   }
  }
 ],
 "metadata": {
  "kernelspec": {
   "display_name": "Python 3",
   "language": "python",
   "name": "python3"
  },
  "language_info": {
   "codemirror_mode": {
    "name": "ipython",
    "version": 2
   },
   "file_extension": ".py",
   "mimetype": "text/x-python",
   "name": "python",
   "nbconvert_exporter": "python",
   "pygments_lexer": "ipython2",
   "version": "2.7.6"
  }
 },
 "nbformat": 4,
 "nbformat_minor": 0
}