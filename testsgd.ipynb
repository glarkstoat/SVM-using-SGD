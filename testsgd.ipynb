{
 "cells": [
  {
   "cell_type": "code",
   "execution_count": 3,
   "metadata": {
    "collapsed": true
   },
   "outputs": [],
   "source": [
    "## Dataset tiny\n",
    "import matplotlib.pyplot as plt\n",
    "from DataLoader import *\n",
    "from LinearSVM import *\n",
    "from SGD import *\n",
    "from ParallelSGD import *\n",
    "dataloader = DataLoader()\n",
    "\n",
    "# Tiny\n",
    "xtrain, xtest, ytrain, ytest = dataloader.get_mnist()"
   ]
  },
  {
   "cell_type": "code",
   "execution_count": 4,
   "outputs": [
    {
     "name": "stderr",
     "output_type": "stream",
     "text": [
      "/Users/ezorrio/PycharmProjects/svm_sgd/SVM-using-SGD/SGD.py:38: RuntimeWarning: overflow encountered in double_scalars\n",
      "  error += current_error ** 2\n",
      "/Users/ezorrio/PycharmProjects/svm_sgd/SVM-using-SGD/SGD.py:18: RuntimeWarning: overflow encountered in double_scalars\n",
      "  result += sum(self.weight[i + 1] * features[i] for i in range(len(features) - 1))\n",
      "/Users/ezorrio/PycharmProjects/svm_sgd/SVM-using-SGD/SGD.py:41: RuntimeWarning: invalid value encountered in multiply\n",
      "  self.weight[1:] -= self.learning_rate * current_error * itemx[0:]\n"
     ]
    },
    {
     "name": "stdout",
     "output_type": "stream",
     "text": [
      "Epoch: 0. Total error: nan\n",
      "Finished in 0:00:19.811245\n"
     ]
    }
   ],
   "source": [
    "SGD(0.05).train(xtrain, ytrain, len(xtrain) - 1, 1)"
   ],
   "metadata": {
    "collapsed": false,
    "pycharm": {
     "name": "#%%\n"
    }
   }
  },
  {
   "cell_type": "code",
   "execution_count": 5,
   "outputs": [
    {
     "name": "stdout",
     "output_type": "stream",
     "text": [
      "Examples per thread: 60000\n",
      "Thread 0 spawned\n",
      "Thread 0 finished\n",
      "Finished in 0:00:00.733673\n"
     ]
    }
   ],
   "source": [
    "ParallelSGD(0.05, 1, 0.5).train(xtrain, ytrain)"
   ],
   "metadata": {
    "collapsed": false,
    "pycharm": {
     "name": "#%%\n"
    }
   }
  },
  {
   "cell_type": "code",
   "execution_count": 6,
   "outputs": [
    {
     "name": "stdout",
     "output_type": "stream",
     "text": [
      "Examples per thread: 30000\n",
      "Thread 0 spawnedThread 1 spawned\n",
      "\n",
      "Thread 0 finished\n",
      "Thread 1 finished\n",
      "Finished in 0:00:01.546167\n"
     ]
    }
   ],
   "source": [
    "ParallelSGD(0.05, 2, 0.5).train(xtrain, ytrain)"
   ],
   "metadata": {
    "collapsed": false,
    "pycharm": {
     "name": "#%%\n"
    }
   }
  },
  {
   "cell_type": "code",
   "execution_count": 7,
   "outputs": [
    {
     "name": "stdout",
     "output_type": "stream",
     "text": [
      "Examples per thread: 15000\n",
      "Thread 0 spawned\n",
      "Thread 1 spawned\n",
      "Thread 2 spawnedThread 3 spawned\n",
      "\n",
      "Thread 2 finished\n",
      "Thread 3 finished\n",
      "Thread 1 finished\n",
      "Thread 0 finished\n",
      "Finished in 0:00:01.921395\n"
     ]
    }
   ],
   "source": [
    "ParallelSGD(0.05, 4, 0.5).train(xtrain, ytrain)"
   ],
   "metadata": {
    "collapsed": false,
    "pycharm": {
     "name": "#%%\n"
    }
   }
  },
  {
   "cell_type": "code",
   "execution_count": 8,
   "outputs": [
    {
     "name": "stdout",
     "output_type": "stream",
     "text": [
      "Examples per thread: 15000\n",
      "Thread 0 spawned\n",
      "Thread 1 spawnedThread 2 spawned\n",
      "\n",
      "Thread 3 spawned\n",
      "Thread 3 finished\n",
      "Thread 1 finished\n",
      "Thread 2 finished\n",
      "Thread 0 finished\n",
      "Finished in 0:00:01.924796\n"
     ]
    }
   ],
   "source": [
    "test = ParallelSGD(0.05, 4, 0.5)\n",
    "test.train(xtrain, ytrain)"
   ],
   "metadata": {
    "collapsed": false,
    "pycharm": {
     "name": "#%%\n"
    }
   }
  },
  {
   "cell_type": "code",
   "execution_count": 9,
   "outputs": [
    {
     "name": "stdout",
     "output_type": "stream",
     "text": [
      "Thread 0 spawned\n",
      "'NoneType' object is not subscriptable\n"
     ]
    }
   ],
   "source": [
    "ParallelSGD(0.05, 4, 0.5).train_threaded(0, xtrain, ytrain)"
   ],
   "metadata": {
    "collapsed": false,
    "pycharm": {
     "name": "#%%\n"
    }
   }
  }
 ],
 "metadata": {
  "kernelspec": {
   "display_name": "Python 3",
   "language": "python",
   "name": "python3"
  },
  "language_info": {
   "codemirror_mode": {
    "name": "ipython",
    "version": 2
   },
   "file_extension": ".py",
   "mimetype": "text/x-python",
   "name": "python",
   "nbconvert_exporter": "python",
   "pygments_lexer": "ipython2",
   "version": "2.7.6"
  }
 },
 "nbformat": 4,
 "nbformat_minor": 0
}