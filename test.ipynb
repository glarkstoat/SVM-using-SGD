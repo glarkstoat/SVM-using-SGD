{
 "cells": [
  {
   "cell_type": "code",
   "execution_count": 2,
   "metadata": {},
   "outputs": [
    {
     "data": {
      "text/plain": "<Figure size 432x288 with 1 Axes>",
      "image/png": "[encoded data removed]"
     },
     "metadata": {
      "needs_background": "light"
     },
     "output_type": "display_data"
    }
   ],
   "source": [
    "import matplotlib.pyplot as plt \n",
    "from DataLoader import *\n",
    "from LinearSVM import *\n",
    "\n",
    "dataloader = DataLoader()\n",
    "xtrain, xtest, ytrain, ytest = dataloader.get_toydata_tiny()\n",
    "\n",
    "plt.title('Training data')\n",
    "plt.scatter(xtrain[ytrain==1,0], xtrain[ytrain==1,1], c='r', label='Class 1')\n",
    "plt.scatter(xtrain[ytrain==-1,0], xtrain[ytrain==-1,1], c='g', label='Class -1')\n",
    "plt.xlabel(\"x1\"); plt.ylabel(\"x2\")\n",
    "plt.legend()\n",
    "plt.show()\n",
    "\n"
   ]
  },
  {
   "cell_type": "code",
   "execution_count": 4,
   "metadata": {},
   "outputs": [
    {
     "name": "stdout",
     "output_type": "stream",
     "text": [
      "Epoch: 0. Total error: 49.9262194841816\n",
      "Epoch: 1. Total error: 33.06862068764402\n",
      "Epoch: 2. Total error: 32.92486683183053\n",
      "Epoch: 3. Total error: 32.92304519871525\n",
      "Epoch: 4. Total error: 32.923021975224074\n",
      "Epoch: 5. Total error: 32.92302167913443\n",
      "Epoch: 6. Total error: 32.92302167535943\n",
      "Epoch: 7. Total error: 32.92302167531127\n",
      "Epoch: 8. Total error: 32.92302167531065\n",
      "Epoch: 9. Total error: 32.92302167531065\n",
      "Epoch: 10. Total error: 32.92302167531065\n",
      "Epoch: 11. Total error: 32.92302167531065\n",
      "Epoch: 12. Total error: 32.92302167531065\n",
      "Epoch: 13. Total error: 32.92302167531065\n",
      "Epoch: 14. Total error: 32.92302167531065\n",
      "Epoch: 15. Total error: 32.92302167531065\n",
      "Epoch: 16. Total error: 32.92302167531065\n",
      "Epoch: 17. Total error: 32.92302167531065\n",
      "Epoch: 18. Total error: 32.92302167531065\n",
      "Epoch: 19. Total error: 32.92302167531065\n",
      "Epoch: 20. Total error: 32.92302167531065\n",
      "Epoch: 21. Total error: 32.92302167531065\n",
      "Epoch: 22. Total error: 32.92302167531065\n",
      "Epoch: 23. Total error: 32.92302167531065\n",
      "Epoch: 24. Total error: 32.92302167531065\n",
      "Epoch: 25. Total error: 32.92302167531065\n",
      "Epoch: 26. Total error: 32.92302167531065\n",
      "Epoch: 27. Total error: 32.92302167531065\n",
      "Epoch: 28. Total error: 32.92302167531065\n",
      "Epoch: 29. Total error: 32.92302167531065\n",
      "Epoch: 30. Total error: 32.92302167531065\n",
      "Epoch: 31. Total error: 32.92302167531065\n",
      "Epoch: 32. Total error: 32.92302167531065\n",
      "Epoch: 33. Total error: 32.92302167531065\n",
      "Epoch: 34. Total error: 32.92302167531065\n",
      "Epoch: 35. Total error: 32.92302167531065\n",
      "Epoch: 36. Total error: 32.92302167531065\n",
      "Epoch: 37. Total error: 32.92302167531065\n",
      "Epoch: 38. Total error: 32.92302167531065\n",
      "Epoch: 39. Total error: 32.92302167531065\n",
      "Epoch: 40. Total error: 32.92302167531065\n",
      "Epoch: 41. Total error: 32.92302167531065\n",
      "Epoch: 42. Total error: 32.92302167531065\n",
      "Epoch: 43. Total error: 32.92302167531065\n",
      "Epoch: 44. Total error: 32.92302167531065\n",
      "Epoch: 45. Total error: 32.92302167531065\n",
      "Epoch: 46. Total error: 32.92302167531065\n",
      "Epoch: 47. Total error: 32.92302167531065\n",
      "Epoch: 48. Total error: 32.92302167531065\n",
      "Epoch: 49. Total error: 32.92302167531065\n",
      "Epoch: 50. Total error: 32.92302167531065\n",
      "Epoch: 51. Total error: 32.92302167531065\n",
      "Epoch: 52. Total error: 32.92302167531065\n",
      "Epoch: 53. Total error: 32.92302167531065\n",
      "Epoch: 54. Total error: 32.92302167531065\n",
      "Epoch: 55. Total error: 32.92302167531065\n",
      "Epoch: 56. Total error: 32.92302167531065\n",
      "Epoch: 57. Total error: 32.92302167531065\n",
      "Epoch: 58. Total error: 32.92302167531065\n",
      "Epoch: 59. Total error: 32.92302167531065\n",
      "Epoch: 60. Total error: 32.92302167531065\n",
      "Epoch: 61. Total error: 32.92302167531065\n",
      "Epoch: 62. Total error: 32.92302167531065\n",
      "Epoch: 63. Total error: 32.92302167531065\n",
      "Epoch: 64. Total error: 32.92302167531065\n",
      "Epoch: 65. Total error: 32.92302167531065\n",
      "Epoch: 66. Total error: 32.92302167531065\n",
      "Epoch: 67. Total error: 32.92302167531065\n",
      "Epoch: 68. Total error: 32.92302167531065\n",
      "Epoch: 69. Total error: 32.92302167531065\n",
      "Epoch: 70. Total error: 32.92302167531065\n",
      "Epoch: 71. Total error: 32.92302167531065\n",
      "Epoch: 72. Total error: 32.92302167531065\n",
      "Epoch: 73. Total error: 32.92302167531065\n",
      "Epoch: 74. Total error: 32.92302167531065\n",
      "Epoch: 75. Total error: 32.92302167531065\n",
      "Epoch: 76. Total error: 32.92302167531065\n",
      "Epoch: 77. Total error: 32.92302167531065\n",
      "Epoch: 78. Total error: 32.92302167531065\n",
      "Epoch: 79. Total error: 32.92302167531065\n",
      "Epoch: 80. Total error: 32.92302167531065\n",
      "Epoch: 81. Total error: 32.92302167531065\n",
      "Epoch: 82. Total error: 32.92302167531065\n",
      "Epoch: 83. Total error: 32.92302167531065\n",
      "Epoch: 84. Total error: 32.92302167531065\n",
      "Epoch: 85. Total error: 32.92302167531065\n",
      "Epoch: 86. Total error: 32.92302167531065\n",
      "Epoch: 87. Total error: 32.92302167531065\n",
      "Epoch: 88. Total error: 32.92302167531065\n",
      "Epoch: 89. Total error: 32.92302167531065\n",
      "Epoch: 90. Total error: 32.92302167531065\n",
      "Epoch: 91. Total error: 32.92302167531065\n",
      "Epoch: 92. Total error: 32.92302167531065\n",
      "Epoch: 93. Total error: 32.92302167531065\n",
      "Epoch: 94. Total error: 32.92302167531065\n",
      "Epoch: 95. Total error: 32.92302167531065\n",
      "Epoch: 96. Total error: 32.92302167531065\n",
      "Epoch: 97. Total error: 32.92302167531065\n",
      "Epoch: 98. Total error: 32.92302167531065\n",
      "Epoch: 99. Total error: 32.92302167531065\n"
     ]
    }
   ],
   "source": [
    "from SGD import *\n",
    "\n",
    "sgd = SGD(learning_rate=0.05)\n",
    "sgd.train(xtrain, ytrain, 100)\n"
   ]
  }
 ],
 "nbformat": 4,
 "nbformat_minor": 2,
 "metadata": {
  "language_info": {
   "codemirror_mode": {
    "name": "ipython",
    "version": 3
   },
   "file_extension": ".py",
   "mimetype": "text/x-python",
   "name": "python",
   "nbconvert_exporter": "python",
   "pygments_lexer": "ipython3",
   "version": "3.8.8"
  },
  "orig_nbformat": 2,
  "kernelspec": {
   "name": "python3",
   "language": "python",
   "display_name": "Python 3"
  }
 }
}